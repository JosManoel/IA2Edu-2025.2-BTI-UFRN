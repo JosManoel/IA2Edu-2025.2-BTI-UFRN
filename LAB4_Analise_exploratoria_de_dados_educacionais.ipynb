{
  "cells": [
    {
      "cell_type": "markdown",
      "metadata": {
        "id": "_aOWVm63qt5B"
      },
      "source": [
        "### Instruções Gerais\n",
        "\n",
        "Siga os passos abaixo como um guia para estruturar sua análise. O objetivo não é apenas gerar gráficos, mas também interpretá-los para entender a história que os dados contam.\n",
        "\n",
        "#### Passo 1: Preparação do Ambiente e Carregamento dos Dados\n",
        "\n",
        "Comece criando seu notebook e preparando o ambiente para a análise.\n",
        "\n",
        "1.  Crie um novo notebook no Google Colab ou em seu ambiente Jupyter local.\n",
        "2.  Importe as bibliotecas essenciais para a análise. No início do seu código, inclua:\n",
        "    ```python\n",
        "    import pandas as pd\n",
        "    import seaborn as sns\n",
        "    import matplotlib.pyplot as plt\n",
        "    ```\n",
        "3.  Carregue o dataset. Primeiro, baixe o arquivo `.csv` do [Kaggle](https://www.kaggle.com/datasets/lainguyn123/student-performance-factors/data) para o mesmo ambiente do seu notebook. Em seguida, use o pandas para carregá-lo em um DataFrame:\n",
        "    ```python\n",
        "    # Substitua 'caminho/para/seu/arquivo.csv' pelo caminho correto do arquivo\n",
        "    df = pd.read_csv('caminho/para/seu/arquivo.csv')\n",
        "    ```\n",
        "4.  Inspecione o início do seu DataFrame para garantir que os dados foram carregados corretamente, utilizando o comando `df.head()`.\n",
        "\n",
        "#### Passo 2: Exploração Inicial e Limpeza\n",
        "\n",
        "Antes de criar visualizações, é fundamental entender a estrutura e a qualidade dos seus dados.\n",
        "\n",
        "1.  Verifique as informações gerais do DataFrame usando `df.info()`. Observe os tipos de dados de cada coluna (são numéricos? categóricos?) e se há valores nulos.\n",
        "2.  Conte os dados faltantes (nulos) em cada coluna com o comando `df.isnull().sum()`. Se houver dados faltantes, será necessário um tratamento (descartar, substituir pela média?).\n",
        "3.  Gere estatísticas descritivas para as colunas numéricas usando `df.describe()`. Isso te dará uma ideia da média, desvio padrão, valores mínimos e máximos de variáveis como `Exam_Score` e `Hours_Studied`.\n",
        "\n",
        "#### Passo 3: Análise e Visualização dos Dados\n",
        "\n",
        "Agora é a hora de criar gráficos para responder perguntas e encontrar padrões. Explore os dados com os seguintes tipos de análise:\n",
        "\n",
        "1.  Analise a distribuição da variável mais importante, `Exam_Score`.\n",
        "    * Crie um histograma com `seaborn.histplot()` para ver como as notas dos alunos estão distribuídas. Elas se concentram em alguma faixa específica?\n",
        "\n",
        "2.  Investigue as variáveis categóricas\n",
        "    * Conte a quantidade de alunos por categoria em colunas como `School_Type`, `Parental_Involvement` e `Gender` usando `df['nome_da_coluna'].value_counts()`.\n",
        "    * Crie um gráfico de barras (`seaborn.countplot()`) para visualizar essas contagens para pelo menos duas variáveis categóricas de sua escolha.\n",
        "\n",
        "3.  Explore a relação entre duas variáveis\n",
        "    * Compare a distribuição de `Exam_Score` para diferentes categorias. Use um boxplot (`seaborn.boxplot()`) para comparar as notas entre `Gender` (gênero) ou entre `School_Type` (tipo de escola).\n",
        "    * Investigue a relação entre `Hours_Studied` e `Exam_Score`. Crie um gráfico de dispersão (`seaborn.scatterplot()`) para ver se há uma tendência visível.\n",
        "\n",
        "4.  Analise a correlação entre todas as variáveis numéricas**.\n",
        "    * Calcule a matriz de correlação. Dica: selecione apenas as colunas numéricas antes de usar o método `.corr()`.\n",
        "    * Crie um mapa de calor (heatmap) com `seaborn.heatmap()` para visualizar a matriz de correlação. Isso facilita a identificação das relações mais fortes (positivas ou negativas) entre as variáveis."
      ]
    },
    {
      "cell_type": "markdown",
      "metadata": {
        "id": "J6ljeuqHqytk"
      },
      "source": [
        "# ANÁLISE EXPLORATÓRIA DE DADOS\n",
        "\n",
        "Seu nome."
      ]
    },
    {
      "cell_type": "code",
      "execution_count": null,
      "metadata": {
        "id": "vXlaALBEqsMC"
      },
      "outputs": [],
      "source": []
    },
    {
      "cell_type": "code",
      "execution_count": null,
      "metadata": {
        "id": "U2oSyWEOBefx"
      },
      "outputs": [],
      "source": []
    },
    {
      "cell_type": "code",
      "execution_count": null,
      "metadata": {
        "id": "-g64xPNTBedv"
      },
      "outputs": [],
      "source": []
    },
    {
      "cell_type": "code",
      "execution_count": null,
      "metadata": {
        "id": "fPtBjQ8RBebX"
      },
      "outputs": [],
      "source": []
    },
    {
      "cell_type": "code",
      "execution_count": null,
      "metadata": {
        "id": "CMGe1PXgBeZL"
      },
      "outputs": [],
      "source": []
    },
    {
      "cell_type": "markdown",
      "metadata": {
        "id": "qwGhtnmzrn1G"
      },
      "source": [
        "# PERGUNTAS\n",
        "\n",
        "Após realizar as análises e gerar os gráficos, utilize células de texto (Markdown) no seu notebook para responder às seguintes perguntas. Justifique cada resposta com base nos gráficos e dados que você analisou.\n",
        "\n",
        "1. Com base no mapa de calor (heatmap) de correlação e em outros gráficos que você gerou, quais são os 2 ou 3 fatores que parecem ter a correlação mais forte e positiva com a pontuação final no exame (Exam_Score)? Justifique sua resposta mencionando os gráficos que te levaram a essa conclusão.\n",
        "\n",
        "2. Existe uma diferença clara no desempenho (Exam_Score) entre alunos que participam de atividades extracurriculares (Extracurricular_Activities) e os que não participam? E entre os diferentes níveis de envolvimento dos pais (Parental_Involvement)? Use os boxplots ou outros gráficos para explicar sua conclusão.\n",
        "\n",
        "3. Como as pontuações dos exames (Exam_Score) estão distribuídas? Elas se concentram em uma faixa específica (por exemplo, notas altas, médias ou baixas)? O que o histograma que você criou revela sobre o desempenho geral dos alunos neste dataset?\n",
        "\n",
        "4. Analisando o gráfico de dispersão, qual é a relação entre as Hours_Studied (Horas de Estudo) e a Exam_Score (Pontuação no Exame)? Um aumento nas horas de estudo parece garantir uma nota maior? Explique o que o padrão dos pontos no gráfico sugere.\n",
        "\n",
        "5. Além das correlações mais óbvias, qual outra variável lhe chamou a atenção pela sua aparente influência no desempenho dos alunos? Apresente um gráfico que suporte sua observação e descreva o insight que você obteve ao analisar essa relação."
      ]
    },
    {
      "cell_type": "markdown",
      "metadata": {
        "id": "1u31R6Skr5Ja"
      },
      "source": [
        "<< SUA RESPOSTA EM FORMATO MARKDOWN >>"
      ]
    }
  ],
  "metadata": {
    "colab": {
      "provenance": []
    },
    "kernelspec": {
      "display_name": "Python 3",
      "name": "python3"
    },
    "language_info": {
      "name": "python"
    }
  },
  "nbformat": 4,
  "nbformat_minor": 0
}
